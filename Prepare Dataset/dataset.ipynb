{
 "cells": [
  {
   "cell_type": "code",
   "execution_count": 1,
   "metadata": {
    "trusted": true
   },
   "outputs": [
    {
     "name": "stderr",
     "output_type": "stream",
     "text": [
      "<ipython-input-1-7dd3504c366f>:1: DeprecationWarning: \n",
      "Pyarrow will become a required dependency of pandas in the next major release of pandas (pandas 3.0),\n",
      "(to allow more performant data types, such as the Arrow string type, and better interoperability with other libraries)\n",
      "but was not found to be installed on your system.\n",
      "If this would cause problems for you,\n",
      "please provide us feedback at https://github.com/pandas-dev/pandas/issues/54466\n",
      "        \n",
      "  import pandas as pd\n"
     ]
    }
   ],
   "source": [
    "import pandas as pd"
   ]
  },
  {
   "cell_type": "code",
   "execution_count": 2,
   "metadata": {
    "trusted": true
   },
   "outputs": [],
   "source": [
    "# Load datasets and rename columns to lowercase\n",
    "df1 = pd.read_csv(\"dataset/dataset1.csv\")[['user_id', 'date', 'steps']].rename(columns=str.lower)\n",
    "df2 = pd.read_csv(\"dataset/dataset2.csv\")[['Gender', 'Height', 'Weight', 'Index']].rename(columns=str.lower)\n",
    "df3 = pd.read_csv(\"dataset/dataset3.csv\")[['Person ID', 'Gender', 'Age']].rename(columns=lambda x: x.lower().replace(\" \", \"_\"))\n",
    "\n",
    "# Ensure consistency in column types\n",
    "df2['gender'] = df2['gender'].astype(str)\n",
    "df3['gender'] = df3['gender'].astype(str)"
   ]
  },
  {
   "cell_type": "code",
   "execution_count": 3,
   "metadata": {
    "trusted": true
   },
   "outputs": [],
   "source": [
    "# Calculate daily average steps per user from Dataset 1\n",
    "df1_daily_steps = df1.groupby('user_id')['steps'].mean().reset_index()\n",
    "df1_daily_steps.rename(columns={'steps': 'daily_steps'}, inplace=True)"
   ]
  },
  {
   "cell_type": "code",
   "execution_count": 4,
   "metadata": {
    "trusted": true
   },
   "outputs": [],
   "source": [
    "# Add underweight entries to Dataset 2\n",
    "underweight_entries = pd.DataFrame({\n",
    "    'gender': ['female', 'male'],\n",
    "    'height': [160, 180],\n",
    "    'weight': [45, 55],\n",
    "    'index': [999, 998]\n",
    "})\n",
    "df2 = pd.concat([df2, underweight_entries], ignore_index=True)"
   ]
  },
  {
   "cell_type": "code",
   "execution_count": 5,
   "metadata": {
    "trusted": true
   },
   "outputs": [],
   "source": [
    "# Calculate BMI, target weight, and weight adjustment for all entries in Dataset 2\n",
    "df2['bmi'] = df2['weight'] / ((df2['height'] / 100) ** 2)\n",
    "df2['target_weight'] = 22 * ((df2['height'] / 100) ** 2)\n",
    "df2['weight_adjustment'] = df2['target_weight'] - df2['weight']"
   ]
  },
  {
   "cell_type": "code",
   "execution_count": 6,
   "metadata": {
    "trusted": true
   },
   "outputs": [],
   "source": [
    "# Merge datasets on gender and user identifiers\n",
    "merged_df = df2.merge(df3, on='gender', how='inner')\n",
    "final_df = merged_df.merge(df1_daily_steps, left_on='person_id', right_on='user_id', how='inner')"
   ]
  },
  {
   "cell_type": "code",
   "execution_count": 7,
   "metadata": {
    "trusted": true
   },
   "outputs": [],
   "source": [
    "# Calculate BMI category and adjust steps based on factors\n",
    "final_df['bmi_category'] = pd.cut(\n",
    "    final_df['bmi'],\n",
    "    bins=[0, 18.5, 24.9, 29.9, float('inf')],\n",
    "    labels=['underweight', 'normal weight', 'overweight', 'obesity']\n",
    ")\n",
    "\n",
    "def calculate_adjusted_steps(row):\n",
    "    # Set base steps based on BMI category\n",
    "    if row['bmi_category'] == 'underweight':\n",
    "        base_steps = 2500\n",
    "    elif row['bmi_category'] == 'normal weight':\n",
    "        base_steps = 4500\n",
    "    elif row['bmi_category'] == 'overweight':\n",
    "        base_steps = 3500\n",
    "    else:\n",
    "        base_steps = 3000\n",
    "\n",
    "    # Adjust steps based on age and gender\n",
    "    if row['age'] < 30:\n",
    "        base_steps += 500\n",
    "    elif 30 <= row['age'] <= 50:\n",
    "        base_steps += 250\n",
    "    else:\n",
    "        base_steps -= 500\n",
    "\n",
    "    base_steps += 500 if row['gender'] == 'male' else -200\n",
    "\n",
    "    # Adjust steps based on weight adjustment for weight goals\n",
    "    if row['weight_adjustment'] > 0:\n",
    "        base_steps += 1000\n",
    "    elif row['weight_adjustment'] < 0:\n",
    "        base_steps -= 500\n",
    "\n",
    "    return base_steps"
   ]
  },
  {
   "cell_type": "code",
   "execution_count": 8,
   "metadata": {
    "trusted": true
   },
   "outputs": [],
   "source": [
    "# Apply the step adjustment function and clean up columns\n",
    "final_df['daily_steps'] = final_df.apply(calculate_adjusted_steps, axis=1).astype(int)\n",
    "final_df['bmi'] = final_df['bmi'].round(1)\n",
    "final_df['target_weight'] = final_df['target_weight'].round(1)\n",
    "final_df['weight_adjustment'] = (final_df['target_weight'] - final_df['weight']).round(1)  # Round to 1 decimal place\n",
    "\n",
    "# Drop unnecessary columns\n",
    "final_df = final_df.drop(columns=['user_id', 'person_id'])"
   ]
  },
  {
   "cell_type": "code",
   "execution_count": 9,
   "metadata": {
    "trusted": true
   },
   "outputs": [
    {
     "name": "stdout",
     "output_type": "stream",
     "text": [
      "  gender  age  height  weight   bmi bmi_category  daily_steps  target_weight  \\\n",
      "0   Male   27     174      96  31.7      obesity         2800           66.6   \n",
      "1   Male   28     174      96  31.7      obesity         2800           66.6   \n",
      "2   Male   28     174      96  31.7      obesity         2800           66.6   \n",
      "3   Male   28     174      96  31.7      obesity         2800           66.6   \n",
      "4   Male   28     174      96  31.7      obesity         2800           66.6   \n",
      "\n",
      "   weight_adjustment  \n",
      "0              -29.4  \n",
      "1              -29.4  \n",
      "2              -29.4  \n",
      "3              -29.4  \n",
      "4              -29.4  \n"
     ]
    }
   ],
   "source": [
    "print(final_df[['gender', 'age', 'height', 'weight', 'bmi', 'bmi_category', \n",
    "                'daily_steps', 'target_weight', 'weight_adjustment']].head())"
   ]
  },
  {
   "cell_type": "code",
   "execution_count": 10,
   "metadata": {
    "trusted": true
   },
   "outputs": [],
   "source": [
    "final_df.to_csv(\"dataset/final_df.csv\", index=False)"
   ]
  }
 ],
 "metadata": {
  "kernelspec": {
   "display_name": "Python (Pyodide)",
   "language": "python",
   "name": "python"
  },
  "language_info": {
   "codemirror_mode": {
    "name": "python",
    "version": 3
   },
   "file_extension": ".py",
   "mimetype": "text/x-python",
   "name": "python",
   "nbconvert_exporter": "python",
   "pygments_lexer": "ipython3",
   "version": "3.8"
  }
 },
 "nbformat": 4,
 "nbformat_minor": 4
}
