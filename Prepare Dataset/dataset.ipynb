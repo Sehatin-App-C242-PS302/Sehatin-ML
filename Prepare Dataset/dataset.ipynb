{
  "metadata": {
    "kernelspec": {
      "name": "python",
      "display_name": "Python (Pyodide)",
      "language": "python"
    },
    "language_info": {
      "codemirror_mode": {
        "name": "python",
        "version": 3
      },
      "file_extension": ".py",
      "mimetype": "text/x-python",
      "name": "python",
      "nbconvert_exporter": "python",
      "pygments_lexer": "ipython3",
      "version": "3.8"
    }
  },
  "nbformat_minor": 4,
  "nbformat": 4,
  "cells": [
    {
      "cell_type": "code",
      "source": "import pandas as pd",
      "metadata": {
        "trusted": true
      },
      "outputs": [
        {
          "name": "stderr",
          "text": "<ipython-input-1-7dd3504c366f>:1: DeprecationWarning: \nPyarrow will become a required dependency of pandas in the next major release of pandas (pandas 3.0),\n(to allow more performant data types, such as the Arrow string type, and better interoperability with other libraries)\nbut was not found to be installed on your system.\nIf this would cause problems for you,\nplease provide us feedback at https://github.com/pandas-dev/pandas/issues/54466\n        \n  import pandas as pd\n",
          "output_type": "stream"
        }
      ],
      "execution_count": 1
    },
    {
      "cell_type": "code",
      "source": "# Load datasets and rename columns to lowercase\ndf1 = pd.read_csv(\"dataset/dataset1.csv\")[['user_id', 'date', 'steps']].rename(columns=str.lower)\ndf2 = pd.read_csv(\"dataset/dataset2.csv\")[['Gender', 'Height', 'Weight', 'Index']].rename(columns=str.lower)\ndf3 = pd.read_csv(\"dataset/dataset3.csv\")[['Person ID', 'Gender', 'Age']].rename(columns=lambda x: x.lower().replace(\" \", \"_\"))\n\n# Ensure consistency in column types\ndf2['gender'] = df2['gender'].astype(str)\ndf3['gender'] = df3['gender'].astype(str)",
      "metadata": {
        "trusted": true
      },
      "outputs": [],
      "execution_count": 2
    },
    {
      "cell_type": "code",
      "source": "# Calculate daily average steps per user from Dataset 1\ndf1_daily_steps = df1.groupby('user_id')['steps'].mean().reset_index()\ndf1_daily_steps.rename(columns={'steps': 'daily_steps'}, inplace=True)",
      "metadata": {
        "trusted": true
      },
      "outputs": [],
      "execution_count": 3
    },
    {
      "cell_type": "code",
      "source": "# Add underweight entries to Dataset 2\nunderweight_entries = pd.DataFrame({\n    'gender': ['female', 'male'],\n    'height': [160, 180],\n    'weight': [45, 55],\n    'index': [999, 998]\n})\ndf2 = pd.concat([df2, underweight_entries], ignore_index=True)",
      "metadata": {
        "trusted": true
      },
      "outputs": [],
      "execution_count": 4
    },
    {
      "cell_type": "code",
      "source": "# Calculate BMI, target weight, and weight adjustment for all entries in Dataset 2\ndf2['bmi'] = df2['weight'] / ((df2['height'] / 100) ** 2)\ndf2['target_weight'] = 22 * ((df2['height'] / 100) ** 2)\ndf2['weight_adjustment'] = df2['target_weight'] - df2['weight']",
      "metadata": {
        "trusted": true
      },
      "outputs": [],
      "execution_count": 5
    },
    {
      "cell_type": "code",
      "source": "# Merge datasets on gender and user identifiers\nmerged_df = df2.merge(df3, on='gender', how='inner')\nfinal_df = merged_df.merge(df1_daily_steps, left_on='person_id', right_on='user_id', how='inner')",
      "metadata": {
        "trusted": true
      },
      "outputs": [],
      "execution_count": 6
    },
    {
      "cell_type": "code",
      "source": "# Calculate BMI category and adjust steps based on factors\nfinal_df['bmi_category'] = pd.cut(\n    final_df['bmi'],\n    bins=[0, 18.5, 24.9, 29.9, float('inf')],\n    labels=['underweight', 'normal weight', 'overweight', 'obesity']\n)\n\ndef calculate_adjusted_steps(row):\n    # Set base steps based on BMI category\n    if row['bmi_category'] == 'underweight':\n        base_steps = 2500\n    elif row['bmi_category'] == 'normal weight':\n        base_steps = 4500\n    elif row['bmi_category'] == 'overweight':\n        base_steps = 3500\n    else:\n        base_steps = 3000\n\n    # Adjust steps based on age and gender\n    if row['age'] < 30:\n        base_steps += 500\n    elif 30 <= row['age'] <= 50:\n        base_steps += 250\n    else:\n        base_steps -= 500\n\n    base_steps += 500 if row['gender'] == 'male' else -200\n\n    # Adjust steps based on weight adjustment for weight goals\n    if row['weight_adjustment'] > 0:\n        base_steps += 1000\n    elif row['weight_adjustment'] < 0:\n        base_steps -= 500\n\n    return base_steps",
      "metadata": {
        "trusted": true
      },
      "outputs": [],
      "execution_count": 7
    },
    {
      "cell_type": "code",
      "source": "# Apply the step adjustment function and clean up columns\nfinal_df['daily_steps'] = final_df.apply(calculate_adjusted_steps, axis=1).astype(int)\nfinal_df['bmi'] = final_df['bmi'].round(1)\nfinal_df['target_weight'] = final_df['target_weight'].round(1)\nfinal_df['weight_adjustment'] = (final_df['target_weight'] - final_df['weight']).round(1)  # Round to 1 decimal place\n\n# Drop unnecessary columns\nfinal_df = final_df.drop(columns=['user_id', 'person_id'])",
      "metadata": {
        "trusted": true
      },
      "outputs": [],
      "execution_count": 8
    },
    {
      "cell_type": "code",
      "source": "print(final_df[['gender', 'age', 'height', 'weight', 'bmi', 'bmi_category', \n                'daily_steps', 'target_weight', 'weight_adjustment']].head())",
      "metadata": {
        "trusted": true
      },
      "outputs": [
        {
          "name": "stdout",
          "text": "  gender  age  height  weight   bmi bmi_category  daily_steps  target_weight  \\\n0   Male   27     174      96  31.7      obesity         2800           66.6   \n1   Male   28     174      96  31.7      obesity         2800           66.6   \n2   Male   28     174      96  31.7      obesity         2800           66.6   \n3   Male   28     174      96  31.7      obesity         2800           66.6   \n4   Male   28     174      96  31.7      obesity         2800           66.6   \n\n   weight_adjustment  \n0              -29.4  \n1              -29.4  \n2              -29.4  \n3              -29.4  \n4              -29.4  \n",
          "output_type": "stream"
        }
      ],
      "execution_count": 9
    },
    {
      "cell_type": "code",
      "source": "final_df.to_csv(\"dataset/final_df.csv\", index=False)",
      "metadata": {
        "trusted": true
      },
      "outputs": [],
      "execution_count": 10
    }
  ]
}