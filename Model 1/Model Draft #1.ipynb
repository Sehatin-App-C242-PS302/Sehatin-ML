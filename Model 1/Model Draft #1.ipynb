{
 "cells": [
  {
   "cell_type": "code",
   "execution_count": 34,
   "id": "96a07abd-78c3-44b1-b55e-3fce555af35c",
   "metadata": {},
   "outputs": [],
   "source": [
    "import pandas as pd\n",
    "import numpy as np\n",
    "from tensorflow.keras.models import Sequential\n",
    "from tensorflow.keras.layers import Dense, Dropout, BatchNormalization\n",
    "from tensorflow.keras.optimizers import Adam\n",
    "from tensorflow.keras.callbacks import EarlyStopping, ReduceLROnPlateau\n",
    "from sklearn.model_selection import train_test_split\n",
    "from sklearn.preprocessing import StandardScaler\n",
    "from sklearn.metrics import mean_absolute_error\n",
    "from keras.callbacks import EarlyStopping\n",
    "import matplotlib.pyplot as plt"
   ]
  },
  {
   "cell_type": "code",
   "execution_count": 35,
   "id": "29ab1660-7987-438e-b670-36627502e1c3",
   "metadata": {},
   "outputs": [],
   "source": [
    "# Load the dataset\n",
    "df = pd.read_csv(\"dataset/health_df.csv\")"
   ]
  },
  {
   "cell_type": "code",
   "execution_count": 36,
   "id": "953acf84-8bbf-4c6e-8061-a8763e2fad1a",
   "metadata": {},
   "outputs": [],
   "source": [
    "# Calculate BMI, target_weight, and weight_adjustment\n",
    "df['bmi'] = df['weight'] / ((df['height'] / 100) ** 2)  # BMI formula\n",
    "df['target_weight'] = 22 * ((df['height'] / 100) ** 2)  # Assuming normal BMI = 22\n",
    "df['weight_adjustment'] = df['weight'] - df['target_weight']\n",
    "\n",
    "# Map gender to numeric\n",
    "df['gender'] = df['gender'].map({'Male': 0, 'Female': 1})\n",
    "\n",
    "# Keep only the relevant columns\n",
    "df = df[['gender', 'height', 'weight', 'age', 'bmi', 'target_weight', 'weight_adjustment', 'daily_steps', 'bmi_category']]\n",
    "\n",
    "# One-hot encode bmi_category\n",
    "df = pd.get_dummies(df, columns=['bmi_category'], drop_first=True)\n",
    "\n",
    "# Define input features (X) and target (y)\n",
    "X = df[['gender', 'height', 'weight', 'age']]  # Input features\n",
    "y = df['daily_steps']  # Target to predict"
   ]
  },
  {
   "cell_type": "code",
   "execution_count": 37,
   "id": "e0d6c9bd-f482-4a55-a1e3-3eed21583e0e",
   "metadata": {},
   "outputs": [],
   "source": [
    "# Scale features and target\n",
    "scaler_X = StandardScaler()\n",
    "X_scaled = scaler_X.fit_transform(X)\n",
    "\n",
    "scaler_y = StandardScaler()\n",
    "y_scaled = scaler_y.fit_transform(y.values.reshape(-1, 1)).flatten()\n",
    "\n",
    "# Split data into training and testing sets\n",
    "X_train, X_test, y_train, y_test = train_test_split(X_scaled, y_scaled, test_size=0.2, random_state=42)"
   ]
  },
  {
   "cell_type": "code",
   "execution_count": 38,
   "id": "5212ee97-c1f1-41fa-b811-2400fd801e43",
   "metadata": {},
   "outputs": [
    {
     "name": "stderr",
     "output_type": "stream",
     "text": [
      "C:\\Users\\zahra\\AppData\\Local\\Packages\\PythonSoftwareFoundation.Python.3.11_qbz5n2kfra8p0\\LocalCache\\local-packages\\Python311\\site-packages\\keras\\src\\layers\\core\\dense.py:87: UserWarning: Do not pass an `input_shape`/`input_dim` argument to a layer. When using Sequential models, prefer using an `Input(shape)` object as the first layer in the model instead.\n",
      "  super().__init__(activity_regularizer=activity_regularizer, **kwargs)\n"
     ]
    }
   ],
   "source": [
    "# Model architecture \n",
    "model = Sequential()\n",
    "model.add(Dense(128, input_shape=(X_train.shape[1],), activation='relu'))\n",
    "model.add(Dropout(0.3))\n",
    "model.add(BatchNormalization())\n",
    "\n",
    "model.add(Dense(256, activation='relu', kernel_regularizer='l2'))\n",
    "model.add(Dropout(0.3))\n",
    "model.add(BatchNormalization())\n",
    "\n",
    "model.add(Dense(128, activation='relu', kernel_regularizer='l2'))\n",
    "model.add(Dropout(0.3))\n",
    "model.add(BatchNormalization())\n",
    "\n",
    "model.add(Dense(1))"
   ]
  },
  {
   "cell_type": "code",
   "execution_count": 39,
   "id": "f5fd64f9-9139-426e-ae50-dae05c33f676",
   "metadata": {},
   "outputs": [],
   "source": [
    "# Compile the model\n",
    "optimizer = Adam(learning_rate=0.001)\n",
    "model.compile(optimizer=optimizer, loss=\"mean_squared_error\", metrics=[\"mae\"])\n",
    "\n",
    "# Callbacks for early stopping and learning rate reduction\n",
    "early_stopping = EarlyStopping(monitor='val_loss', patience=10, restore_best_weights=True)\n",
    "lr_scheduler = ReduceLROnPlateau(monitor='val_loss', factor=0.1, patience=5, min_lr=1e-7)"
   ]
  },
  {
   "cell_type": "code",
   "execution_count": 40,
   "id": "7e92f7a7-8870-4be8-9129-2ab6d150347b",
   "metadata": {},
   "outputs": [
    {
     "name": "stdout",
     "output_type": "stream",
     "text": [
      "Epoch 1/100\n",
      "\u001b[1m20/20\u001b[0m \u001b[32m━━━━━━━━━━━━━━━━━━━━\u001b[0m\u001b[37m\u001b[0m \u001b[1m2s\u001b[0m 12ms/step - loss: 5.4615 - mae: 1.1170 - val_loss: 4.3492 - val_mae: 0.7457 - learning_rate: 0.0010\n",
      "Epoch 2/100\n",
      "\u001b[1m20/20\u001b[0m \u001b[32m━━━━━━━━━━━━━━━━━━━━\u001b[0m\u001b[37m\u001b[0m \u001b[1m0s\u001b[0m 3ms/step - loss: 4.6779 - mae: 0.9119 - val_loss: 4.1802 - val_mae: 0.6996 - learning_rate: 0.0010\n",
      "Epoch 3/100\n",
      "\u001b[1m20/20\u001b[0m \u001b[32m━━━━━━━━━━━━━━━━━━━━\u001b[0m\u001b[37m\u001b[0m \u001b[1m0s\u001b[0m 3ms/step - loss: 4.5150 - mae: 0.8866 - val_loss: 4.1081 - val_mae: 0.7132 - learning_rate: 0.0010\n",
      "Epoch 4/100\n",
      "\u001b[1m20/20\u001b[0m \u001b[32m━━━━━━━━━━━━━━━━━━━━\u001b[0m\u001b[37m\u001b[0m \u001b[1m0s\u001b[0m 4ms/step - loss: 4.0481 - mae: 0.7095 - val_loss: 3.9853 - val_mae: 0.6765 - learning_rate: 0.0010\n",
      "Epoch 5/100\n",
      "\u001b[1m20/20\u001b[0m \u001b[32m━━━━━━━━━━━━━━━━━━━━\u001b[0m\u001b[37m\u001b[0m \u001b[1m0s\u001b[0m 3ms/step - loss: 3.9010 - mae: 0.6591 - val_loss: 3.8664 - val_mae: 0.6448 - learning_rate: 0.0010\n",
      "Epoch 6/100\n",
      "\u001b[1m20/20\u001b[0m \u001b[32m━━━━━━━━━━━━━━━━━━━━\u001b[0m\u001b[37m\u001b[0m \u001b[1m0s\u001b[0m 3ms/step - loss: 3.9514 - mae: 0.7134 - val_loss: 3.7424 - val_mae: 0.6249 - learning_rate: 0.0010\n",
      "Epoch 7/100\n",
      "\u001b[1m20/20\u001b[0m \u001b[32m━━━━━━━━━━━━━━━━━━━━\u001b[0m\u001b[37m\u001b[0m \u001b[1m0s\u001b[0m 3ms/step - loss: 3.6750 - mae: 0.6349 - val_loss: 3.6061 - val_mae: 0.5994 - learning_rate: 0.0010\n",
      "Epoch 8/100\n",
      "\u001b[1m20/20\u001b[0m \u001b[32m━━━━━━━━━━━━━━━━━━━━\u001b[0m\u001b[37m\u001b[0m \u001b[1m0s\u001b[0m 3ms/step - loss: 3.4952 - mae: 0.5552 - val_loss: 3.5022 - val_mae: 0.5934 - learning_rate: 0.0010\n",
      "Epoch 9/100\n",
      "\u001b[1m20/20\u001b[0m \u001b[32m━━━━━━━━━━━━━━━━━━━━\u001b[0m\u001b[37m\u001b[0m \u001b[1m0s\u001b[0m 3ms/step - loss: 3.3583 - mae: 0.5336 - val_loss: 3.4004 - val_mae: 0.5978 - learning_rate: 0.0010\n",
      "Epoch 10/100\n",
      "\u001b[1m20/20\u001b[0m \u001b[32m━━━━━━━━━━━━━━━━━━━━\u001b[0m\u001b[37m\u001b[0m \u001b[1m0s\u001b[0m 3ms/step - loss: 3.2293 - mae: 0.5266 - val_loss: 3.2381 - val_mae: 0.5439 - learning_rate: 0.0010\n",
      "Epoch 11/100\n",
      "\u001b[1m20/20\u001b[0m \u001b[32m━━━━━━━━━━━━━━━━━━━━\u001b[0m\u001b[37m\u001b[0m \u001b[1m0s\u001b[0m 3ms/step - loss: 3.1205 - mae: 0.5030 - val_loss: 3.1429 - val_mae: 0.5350 - learning_rate: 0.0010\n",
      "Epoch 12/100\n",
      "\u001b[1m20/20\u001b[0m \u001b[32m━━━━━━━━━━━━━━━━━━━━\u001b[0m\u001b[37m\u001b[0m \u001b[1m0s\u001b[0m 3ms/step - loss: 2.9695 - mae: 0.4673 - val_loss: 3.0761 - val_mae: 0.5476 - learning_rate: 0.0010\n",
      "Epoch 13/100\n",
      "\u001b[1m20/20\u001b[0m \u001b[32m━━━━━━━━━━━━━━━━━━━━\u001b[0m\u001b[37m\u001b[0m \u001b[1m0s\u001b[0m 3ms/step - loss: 2.9506 - mae: 0.4908 - val_loss: 2.8819 - val_mae: 0.4803 - learning_rate: 0.0010\n",
      "Epoch 14/100\n",
      "\u001b[1m20/20\u001b[0m \u001b[32m━━━━━━━━━━━━━━━━━━━━\u001b[0m\u001b[37m\u001b[0m \u001b[1m0s\u001b[0m 3ms/step - loss: 2.8033 - mae: 0.4486 - val_loss: 2.7604 - val_mae: 0.4625 - learning_rate: 0.0010\n",
      "Epoch 15/100\n",
      "\u001b[1m20/20\u001b[0m \u001b[32m━━━━━━━━━━━━━━━━━━━━\u001b[0m\u001b[37m\u001b[0m \u001b[1m0s\u001b[0m 3ms/step - loss: 2.7089 - mae: 0.4308 - val_loss: 2.6519 - val_mae: 0.4458 - learning_rate: 0.0010\n",
      "Epoch 16/100\n",
      "\u001b[1m20/20\u001b[0m \u001b[32m━━━━━━━━━━━━━━━━━━━━\u001b[0m\u001b[37m\u001b[0m \u001b[1m0s\u001b[0m 4ms/step - loss: 2.5712 - mae: 0.3906 - val_loss: 2.5389 - val_mae: 0.4072 - learning_rate: 0.0010\n",
      "Epoch 17/100\n",
      "\u001b[1m20/20\u001b[0m \u001b[32m━━━━━━━━━━━━━━━━━━━━\u001b[0m\u001b[37m\u001b[0m \u001b[1m0s\u001b[0m 3ms/step - loss: 2.5074 - mae: 0.4142 - val_loss: 2.4355 - val_mae: 0.3953 - learning_rate: 0.0010\n",
      "Epoch 18/100\n",
      "\u001b[1m20/20\u001b[0m \u001b[32m━━━━━━━━━━━━━━━━━━━━\u001b[0m\u001b[37m\u001b[0m \u001b[1m0s\u001b[0m 3ms/step - loss: 2.3857 - mae: 0.3669 - val_loss: 2.2935 - val_mae: 0.3406 - learning_rate: 0.0010\n",
      "Epoch 19/100\n",
      "\u001b[1m20/20\u001b[0m \u001b[32m━━━━━━━━━━━━━━━━━━━━\u001b[0m\u001b[37m\u001b[0m \u001b[1m0s\u001b[0m 3ms/step - loss: 2.3087 - mae: 0.3841 - val_loss: 2.2255 - val_mae: 0.3608 - learning_rate: 0.0010\n",
      "Epoch 20/100\n",
      "\u001b[1m20/20\u001b[0m \u001b[32m━━━━━━━━━━━━━━━━━━━━\u001b[0m\u001b[37m\u001b[0m \u001b[1m0s\u001b[0m 3ms/step - loss: 2.1927 - mae: 0.3487 - val_loss: 2.1122 - val_mae: 0.3360 - learning_rate: 0.0010\n",
      "Epoch 21/100\n",
      "\u001b[1m20/20\u001b[0m \u001b[32m━━━━━━━━━━━━━━━━━━━━\u001b[0m\u001b[37m\u001b[0m \u001b[1m0s\u001b[0m 3ms/step - loss: 2.1015 - mae: 0.3391 - val_loss: 2.0340 - val_mae: 0.3310 - learning_rate: 0.0010\n",
      "Epoch 22/100\n",
      "\u001b[1m20/20\u001b[0m \u001b[32m━━━━━━━━━━━━━━━━━━━━\u001b[0m\u001b[37m\u001b[0m \u001b[1m0s\u001b[0m 3ms/step - loss: 2.0450 - mae: 0.3419 - val_loss: 1.9478 - val_mae: 0.3111 - learning_rate: 0.0010\n",
      "Epoch 23/100\n",
      "\u001b[1m20/20\u001b[0m \u001b[32m━━━━━━━━━━━━━━━━━━━━\u001b[0m\u001b[37m\u001b[0m \u001b[1m0s\u001b[0m 3ms/step - loss: 1.9911 - mae: 0.3490 - val_loss: 1.8770 - val_mae: 0.3177 - learning_rate: 0.0010\n",
      "Epoch 24/100\n",
      "\u001b[1m20/20\u001b[0m \u001b[32m━━━━━━━━━━━━━━━━━━━━\u001b[0m\u001b[37m\u001b[0m \u001b[1m0s\u001b[0m 3ms/step - loss: 1.8616 - mae: 0.3065 - val_loss: 1.7843 - val_mae: 0.2890 - learning_rate: 0.0010\n",
      "Epoch 25/100\n",
      "\u001b[1m20/20\u001b[0m \u001b[32m━━━━━━━━━━━━━━━━━━━━\u001b[0m\u001b[37m\u001b[0m \u001b[1m0s\u001b[0m 3ms/step - loss: 1.7815 - mae: 0.3005 - val_loss: 1.6627 - val_mae: 0.2334 - learning_rate: 0.0010\n",
      "Epoch 26/100\n",
      "\u001b[1m20/20\u001b[0m \u001b[32m━━━━━━━━━━━━━━━━━━━━\u001b[0m\u001b[37m\u001b[0m \u001b[1m0s\u001b[0m 3ms/step - loss: 1.7148 - mae: 0.2961 - val_loss: 1.6070 - val_mae: 0.2440 - learning_rate: 0.0010\n",
      "Epoch 27/100\n",
      "\u001b[1m20/20\u001b[0m \u001b[32m━━━━━━━━━━━━━━━━━━━━\u001b[0m\u001b[37m\u001b[0m \u001b[1m0s\u001b[0m 3ms/step - loss: 1.6596 - mae: 0.2951 - val_loss: 1.5235 - val_mae: 0.2077 - learning_rate: 0.0010\n",
      "Epoch 28/100\n",
      "\u001b[1m20/20\u001b[0m \u001b[32m━━━━━━━━━━━━━━━━━━━━\u001b[0m\u001b[37m\u001b[0m \u001b[1m0s\u001b[0m 3ms/step - loss: 1.5777 - mae: 0.2961 - val_loss: 1.4795 - val_mae: 0.2306 - learning_rate: 0.0010\n",
      "Epoch 29/100\n",
      "\u001b[1m20/20\u001b[0m \u001b[32m━━━━━━━━━━━━━━━━━━━━\u001b[0m\u001b[37m\u001b[0m \u001b[1m0s\u001b[0m 4ms/step - loss: 1.5152 - mae: 0.2876 - val_loss: 1.4017 - val_mae: 0.2135 - learning_rate: 0.0010\n",
      "Epoch 30/100\n",
      "\u001b[1m20/20\u001b[0m \u001b[32m━━━━━━━━━━━━━━━━━━━━\u001b[0m\u001b[37m\u001b[0m \u001b[1m0s\u001b[0m 5ms/step - loss: 1.4461 - mae: 0.2837 - val_loss: 1.3354 - val_mae: 0.2114 - learning_rate: 0.0010\n",
      "Epoch 31/100\n",
      "\u001b[1m20/20\u001b[0m \u001b[32m━━━━━━━━━━━━━━━━━━━━\u001b[0m\u001b[37m\u001b[0m \u001b[1m0s\u001b[0m 3ms/step - loss: 1.3919 - mae: 0.2761 - val_loss: 1.2744 - val_mae: 0.2022 - learning_rate: 0.0010\n",
      "Epoch 32/100\n",
      "\u001b[1m20/20\u001b[0m \u001b[32m━━━━━━━━━━━━━━━━━━━━\u001b[0m\u001b[37m\u001b[0m \u001b[1m0s\u001b[0m 3ms/step - loss: 1.3241 - mae: 0.2671 - val_loss: 1.2214 - val_mae: 0.2052 - learning_rate: 0.0010\n",
      "Epoch 33/100\n",
      "\u001b[1m20/20\u001b[0m \u001b[32m━━━━━━━━━━━━━━━━━━━━\u001b[0m\u001b[37m\u001b[0m \u001b[1m0s\u001b[0m 3ms/step - loss: 1.2590 - mae: 0.2651 - val_loss: 1.1744 - val_mae: 0.2206 - learning_rate: 0.0010\n",
      "Epoch 34/100\n",
      "\u001b[1m20/20\u001b[0m \u001b[32m━━━━━━━━━━━━━━━━━━━━\u001b[0m\u001b[37m\u001b[0m \u001b[1m0s\u001b[0m 3ms/step - loss: 1.1882 - mae: 0.2439 - val_loss: 1.1009 - val_mae: 0.1840 - learning_rate: 0.0010\n",
      "Epoch 35/100\n",
      "\u001b[1m20/20\u001b[0m \u001b[32m━━━━━━━━━━━━━━━━━━━━\u001b[0m\u001b[37m\u001b[0m \u001b[1m0s\u001b[0m 3ms/step - loss: 1.1625 - mae: 0.2701 - val_loss: 1.0560 - val_mae: 0.1918 - learning_rate: 0.0010\n",
      "Epoch 36/100\n",
      "\u001b[1m20/20\u001b[0m \u001b[32m━━━━━━━━━━━━━━━━━━━━\u001b[0m\u001b[37m\u001b[0m \u001b[1m0s\u001b[0m 3ms/step - loss: 1.0910 - mae: 0.2484 - val_loss: 1.0061 - val_mae: 0.1824 - learning_rate: 0.0010\n",
      "Epoch 37/100\n",
      "\u001b[1m20/20\u001b[0m \u001b[32m━━━━━━━━━━━━━━━━━━━━\u001b[0m\u001b[37m\u001b[0m \u001b[1m0s\u001b[0m 3ms/step - loss: 1.0668 - mae: 0.2688 - val_loss: 0.9577 - val_mae: 0.1698 - learning_rate: 0.0010\n",
      "Epoch 38/100\n",
      "\u001b[1m20/20\u001b[0m \u001b[32m━━━━━━━━━━━━━━━━━━━━\u001b[0m\u001b[37m\u001b[0m \u001b[1m0s\u001b[0m 3ms/step - loss: 1.0062 - mae: 0.2481 - val_loss: 0.9145 - val_mae: 0.1896 - learning_rate: 0.0010\n",
      "Epoch 39/100\n",
      "\u001b[1m20/20\u001b[0m \u001b[32m━━━━━━━━━━━━━━━━━━━━\u001b[0m\u001b[37m\u001b[0m \u001b[1m0s\u001b[0m 3ms/step - loss: 1.0044 - mae: 0.2872 - val_loss: 0.8837 - val_mae: 0.2024 - learning_rate: 0.0010\n",
      "Epoch 40/100\n",
      "\u001b[1m20/20\u001b[0m \u001b[32m━━━━━━━━━━━━━━━━━━━━\u001b[0m\u001b[37m\u001b[0m \u001b[1m0s\u001b[0m 3ms/step - loss: 0.9084 - mae: 0.2402 - val_loss: 0.8393 - val_mae: 0.1897 - learning_rate: 0.0010\n",
      "Epoch 41/100\n",
      "\u001b[1m20/20\u001b[0m \u001b[32m━━━━━━━━━━━━━━━━━━━━\u001b[0m\u001b[37m\u001b[0m \u001b[1m0s\u001b[0m 3ms/step - loss: 0.8829 - mae: 0.2586 - val_loss: 0.7872 - val_mae: 0.1802 - learning_rate: 0.0010\n",
      "Epoch 42/100\n",
      "\u001b[1m20/20\u001b[0m \u001b[32m━━━━━━━━━━━━━━━━━━━━\u001b[0m\u001b[37m\u001b[0m \u001b[1m0s\u001b[0m 3ms/step - loss: 0.8520 - mae: 0.2607 - val_loss: 0.7547 - val_mae: 0.1918 - learning_rate: 0.0010\n",
      "Epoch 43/100\n",
      "\u001b[1m20/20\u001b[0m \u001b[32m━━━━━━━━━━━━━━━━━━━━\u001b[0m\u001b[37m\u001b[0m \u001b[1m0s\u001b[0m 3ms/step - loss: 0.7966 - mae: 0.2389 - val_loss: 0.7111 - val_mae: 0.1694 - learning_rate: 0.0010\n",
      "Epoch 44/100\n",
      "\u001b[1m20/20\u001b[0m \u001b[32m━━━━━━━━━━━━━━━━━━━━\u001b[0m\u001b[37m\u001b[0m \u001b[1m0s\u001b[0m 3ms/step - loss: 0.7836 - mae: 0.2642 - val_loss: 0.6904 - val_mae: 0.2031 - learning_rate: 0.0010\n",
      "Epoch 45/100\n",
      "\u001b[1m20/20\u001b[0m \u001b[32m━━━━━━━━━━━━━━━━━━━━\u001b[0m\u001b[37m\u001b[0m \u001b[1m0s\u001b[0m 3ms/step - loss: 0.7366 - mae: 0.2535 - val_loss: 0.6346 - val_mae: 0.1471 - learning_rate: 0.0010\n",
      "Epoch 46/100\n",
      "\u001b[1m20/20\u001b[0m \u001b[32m━━━━━━━━━━━━━━━━━━━━\u001b[0m\u001b[37m\u001b[0m \u001b[1m0s\u001b[0m 3ms/step - loss: 0.7012 - mae: 0.2545 - val_loss: 0.6195 - val_mae: 0.1876 - learning_rate: 0.0010\n",
      "Epoch 47/100\n",
      "\u001b[1m20/20\u001b[0m \u001b[32m━━━━━━━━━━━━━━━━━━━━\u001b[0m\u001b[37m\u001b[0m \u001b[1m0s\u001b[0m 3ms/step - loss: 0.6515 - mae: 0.2234 - val_loss: 0.6034 - val_mae: 0.1980 - learning_rate: 0.0010\n",
      "Epoch 48/100\n",
      "\u001b[1m20/20\u001b[0m \u001b[32m━━━━━━━━━━━━━━━━━━━━\u001b[0m\u001b[37m\u001b[0m \u001b[1m0s\u001b[0m 3ms/step - loss: 0.6099 - mae: 0.2063 - val_loss: 0.5505 - val_mae: 0.1584 - learning_rate: 0.0010\n",
      "Epoch 49/100\n",
      "\u001b[1m20/20\u001b[0m \u001b[32m━━━━━━━━━━━━━━━━━━━━\u001b[0m\u001b[37m\u001b[0m \u001b[1m0s\u001b[0m 3ms/step - loss: 0.6188 - mae: 0.2487 - val_loss: 0.5208 - val_mae: 0.1650 - learning_rate: 0.0010\n",
      "Epoch 50/100\n",
      "\u001b[1m20/20\u001b[0m \u001b[32m━━━━━━━━━━━━━━━━━━━━\u001b[0m\u001b[37m\u001b[0m \u001b[1m0s\u001b[0m 3ms/step - loss: 0.5613 - mae: 0.2257 - val_loss: 0.5098 - val_mae: 0.1701 - learning_rate: 0.0010\n",
      "Epoch 51/100\n",
      "\u001b[1m20/20\u001b[0m \u001b[32m━━━━━━━━━━━━━━━━━━━━\u001b[0m\u001b[37m\u001b[0m \u001b[1m0s\u001b[0m 3ms/step - loss: 0.5447 - mae: 0.2269 - val_loss: 0.4587 - val_mae: 0.1430 - learning_rate: 0.0010\n",
      "Epoch 52/100\n",
      "\u001b[1m20/20\u001b[0m \u001b[32m━━━━━━━━━━━━━━━━━━━━\u001b[0m\u001b[37m\u001b[0m \u001b[1m0s\u001b[0m 3ms/step - loss: 0.5205 - mae: 0.2405 - val_loss: 0.4339 - val_mae: 0.1305 - learning_rate: 0.0010\n",
      "Epoch 53/100\n",
      "\u001b[1m20/20\u001b[0m \u001b[32m━━━━━━━━━━━━━━━━━━━━\u001b[0m\u001b[37m\u001b[0m \u001b[1m0s\u001b[0m 3ms/step - loss: 0.5063 - mae: 0.2418 - val_loss: 0.4247 - val_mae: 0.1711 - learning_rate: 0.0010\n",
      "Epoch 54/100\n",
      "\u001b[1m20/20\u001b[0m \u001b[32m━━━━━━━━━━━━━━━━━━━━\u001b[0m\u001b[37m\u001b[0m \u001b[1m0s\u001b[0m 3ms/step - loss: 0.4521 - mae: 0.2073 - val_loss: 0.3905 - val_mae: 0.1371 - learning_rate: 0.0010\n",
      "Epoch 55/100\n",
      "\u001b[1m20/20\u001b[0m \u001b[32m━━━━━━━━━━━━━━━━━━━━\u001b[0m\u001b[37m\u001b[0m \u001b[1m0s\u001b[0m 3ms/step - loss: 0.4877 - mae: 0.2670 - val_loss: 0.3832 - val_mae: 0.1650 - learning_rate: 0.0010\n",
      "Epoch 56/100\n",
      "\u001b[1m20/20\u001b[0m \u001b[32m━━━━━━━━━━━━━━━━━━━━\u001b[0m\u001b[37m\u001b[0m \u001b[1m0s\u001b[0m 3ms/step - loss: 0.4510 - mae: 0.2563 - val_loss: 0.3539 - val_mae: 0.1496 - learning_rate: 0.0010\n",
      "Epoch 57/100\n",
      "\u001b[1m20/20\u001b[0m \u001b[32m━━━━━━━━━━━━━━━━━━━━\u001b[0m\u001b[37m\u001b[0m \u001b[1m0s\u001b[0m 3ms/step - loss: 0.4220 - mae: 0.2411 - val_loss: 0.3308 - val_mae: 0.1301 - learning_rate: 0.0010\n",
      "Epoch 58/100\n",
      "\u001b[1m20/20\u001b[0m \u001b[32m━━━━━━━━━━━━━━━━━━━━\u001b[0m\u001b[37m\u001b[0m \u001b[1m0s\u001b[0m 3ms/step - loss: 0.3794 - mae: 0.2085 - val_loss: 0.3593 - val_mae: 0.2135 - learning_rate: 0.0010\n",
      "Epoch 59/100\n",
      "\u001b[1m20/20\u001b[0m \u001b[32m━━━━━━━━━━━━━━━━━━━━\u001b[0m\u001b[37m\u001b[0m \u001b[1m0s\u001b[0m 3ms/step - loss: 0.3725 - mae: 0.2218 - val_loss: 0.3018 - val_mae: 0.1432 - learning_rate: 0.0010\n",
      "Epoch 60/100\n",
      "\u001b[1m20/20\u001b[0m \u001b[32m━━━━━━━━━━━━━━━━━━━━\u001b[0m\u001b[37m\u001b[0m \u001b[1m0s\u001b[0m 3ms/step - loss: 0.3745 - mae: 0.2458 - val_loss: 0.3000 - val_mae: 0.1556 - learning_rate: 0.0010\n",
      "Epoch 61/100\n",
      "\u001b[1m20/20\u001b[0m \u001b[32m━━━━━━━━━━━━━━━━━━━━\u001b[0m\u001b[37m\u001b[0m \u001b[1m0s\u001b[0m 3ms/step - loss: 0.3272 - mae: 0.2115 - val_loss: 0.2675 - val_mae: 0.1304 - learning_rate: 0.0010\n",
      "Epoch 62/100\n",
      "\u001b[1m20/20\u001b[0m \u001b[32m━━━━━━━━━━━━━━━━━━━━\u001b[0m\u001b[37m\u001b[0m \u001b[1m0s\u001b[0m 3ms/step - loss: 0.3238 - mae: 0.2261 - val_loss: 0.2534 - val_mae: 0.1282 - learning_rate: 0.0010\n",
      "Epoch 63/100\n",
      "\u001b[1m20/20\u001b[0m \u001b[32m━━━━━━━━━━━━━━━━━━━━\u001b[0m\u001b[37m\u001b[0m \u001b[1m0s\u001b[0m 3ms/step - loss: 0.3186 - mae: 0.2404 - val_loss: 0.2605 - val_mae: 0.1789 - learning_rate: 0.0010\n",
      "Epoch 64/100\n",
      "\u001b[1m20/20\u001b[0m \u001b[32m━━━━━━━━━━━━━━━━━━━━\u001b[0m\u001b[37m\u001b[0m \u001b[1m0s\u001b[0m 3ms/step - loss: 0.2929 - mae: 0.2184 - val_loss: 0.2236 - val_mae: 0.1188 - learning_rate: 0.0010\n",
      "Epoch 65/100\n",
      "\u001b[1m20/20\u001b[0m \u001b[32m━━━━━━━━━━━━━━━━━━━━\u001b[0m\u001b[37m\u001b[0m \u001b[1m0s\u001b[0m 3ms/step - loss: 0.2738 - mae: 0.2065 - val_loss: 0.2291 - val_mae: 0.1464 - learning_rate: 0.0010\n",
      "Epoch 66/100\n",
      "\u001b[1m20/20\u001b[0m \u001b[32m━━━━━━━━━━━━━━━━━━━━\u001b[0m\u001b[37m\u001b[0m \u001b[1m0s\u001b[0m 3ms/step - loss: 0.2734 - mae: 0.2133 - val_loss: 0.2060 - val_mae: 0.1396 - learning_rate: 0.0010\n",
      "Epoch 67/100\n",
      "\u001b[1m20/20\u001b[0m \u001b[32m━━━━━━━━━━━━━━━━━━━━\u001b[0m\u001b[37m\u001b[0m \u001b[1m0s\u001b[0m 4ms/step - loss: 0.2441 - mae: 0.2008 - val_loss: 0.2232 - val_mae: 0.1836 - learning_rate: 0.0010\n",
      "Epoch 68/100\n",
      "\u001b[1m20/20\u001b[0m \u001b[32m━━━━━━━━━━━━━━━━━━━━\u001b[0m\u001b[37m\u001b[0m \u001b[1m0s\u001b[0m 6ms/step - loss: 0.2515 - mae: 0.2210 - val_loss: 0.1771 - val_mae: 0.1094 - learning_rate: 0.0010\n",
      "Epoch 69/100\n",
      "\u001b[1m20/20\u001b[0m \u001b[32m━━━━━━━━━━━━━━━━━━━━\u001b[0m\u001b[37m\u001b[0m \u001b[1m0s\u001b[0m 3ms/step - loss: 0.2466 - mae: 0.2231 - val_loss: 0.1743 - val_mae: 0.1225 - learning_rate: 0.0010\n",
      "Epoch 70/100\n",
      "\u001b[1m20/20\u001b[0m \u001b[32m━━━━━━━━━━━━━━━━━━━━\u001b[0m\u001b[37m\u001b[0m \u001b[1m0s\u001b[0m 3ms/step - loss: 0.2490 - mae: 0.2419 - val_loss: 0.1701 - val_mae: 0.1316 - learning_rate: 0.0010\n",
      "Epoch 71/100\n",
      "\u001b[1m20/20\u001b[0m \u001b[32m━━━━━━━━━━━━━━━━━━━━\u001b[0m\u001b[37m\u001b[0m \u001b[1m0s\u001b[0m 3ms/step - loss: 0.1961 - mae: 0.1735 - val_loss: 0.1560 - val_mae: 0.1144 - learning_rate: 0.0010\n",
      "Epoch 72/100\n",
      "\u001b[1m20/20\u001b[0m \u001b[32m━━━━━━━━━━━━━━━━━━━━\u001b[0m\u001b[37m\u001b[0m \u001b[1m0s\u001b[0m 3ms/step - loss: 0.1961 - mae: 0.1913 - val_loss: 0.1468 - val_mae: 0.1139 - learning_rate: 0.0010\n",
      "Epoch 73/100\n",
      "\u001b[1m20/20\u001b[0m \u001b[32m━━━━━━━━━━━━━━━━━━━━\u001b[0m\u001b[37m\u001b[0m \u001b[1m0s\u001b[0m 3ms/step - loss: 0.2128 - mae: 0.2318 - val_loss: 0.1387 - val_mae: 0.1160 - learning_rate: 0.0010\n",
      "Epoch 74/100\n",
      "\u001b[1m20/20\u001b[0m \u001b[32m━━━━━━━━━━━━━━━━━━━━\u001b[0m\u001b[37m\u001b[0m \u001b[1m0s\u001b[0m 3ms/step - loss: 0.1874 - mae: 0.2035 - val_loss: 0.1428 - val_mae: 0.1120 - learning_rate: 0.0010\n",
      "Epoch 75/100\n",
      "\u001b[1m20/20\u001b[0m \u001b[32m━━━━━━━━━━━━━━━━━━━━\u001b[0m\u001b[37m\u001b[0m \u001b[1m0s\u001b[0m 3ms/step - loss: 0.1948 - mae: 0.2204 - val_loss: 0.1509 - val_mae: 0.1599 - learning_rate: 0.0010\n",
      "Epoch 76/100\n",
      "\u001b[1m20/20\u001b[0m \u001b[32m━━━━━━━━━━━━━━━━━━━━\u001b[0m\u001b[37m\u001b[0m \u001b[1m0s\u001b[0m 3ms/step - loss: 0.1886 - mae: 0.2089 - val_loss: 0.1210 - val_mae: 0.1147 - learning_rate: 0.0010\n",
      "Epoch 77/100\n",
      "\u001b[1m20/20\u001b[0m \u001b[32m━━━━━━━━━━━━━━━━━━━━\u001b[0m\u001b[37m\u001b[0m \u001b[1m0s\u001b[0m 3ms/step - loss: 0.1642 - mae: 0.1897 - val_loss: 0.1097 - val_mae: 0.0909 - learning_rate: 0.0010\n",
      "Epoch 78/100\n",
      "\u001b[1m20/20\u001b[0m \u001b[32m━━━━━━━━━━━━━━━━━━━━\u001b[0m\u001b[37m\u001b[0m \u001b[1m0s\u001b[0m 3ms/step - loss: 0.1746 - mae: 0.2134 - val_loss: 0.1115 - val_mae: 0.0988 - learning_rate: 0.0010\n",
      "Epoch 79/100\n",
      "\u001b[1m20/20\u001b[0m \u001b[32m━━━━━━━━━━━━━━━━━━━━\u001b[0m\u001b[37m\u001b[0m \u001b[1m0s\u001b[0m 4ms/step - loss: 0.1832 - mae: 0.2268 - val_loss: 0.1026 - val_mae: 0.0995 - learning_rate: 0.0010\n",
      "Epoch 80/100\n",
      "\u001b[1m20/20\u001b[0m \u001b[32m━━━━━━━━━━━━━━━━━━━━\u001b[0m\u001b[37m\u001b[0m \u001b[1m0s\u001b[0m 3ms/step - loss: 0.1709 - mae: 0.2129 - val_loss: 0.1133 - val_mae: 0.1230 - learning_rate: 0.0010\n",
      "Epoch 81/100\n",
      "\u001b[1m20/20\u001b[0m \u001b[32m━━━━━━━━━━━━━━━━━━━━\u001b[0m\u001b[37m\u001b[0m \u001b[1m0s\u001b[0m 3ms/step - loss: 0.1828 - mae: 0.2379 - val_loss: 0.1061 - val_mae: 0.1364 - learning_rate: 0.0010\n",
      "Epoch 82/100\n",
      "\u001b[1m20/20\u001b[0m \u001b[32m━━━━━━━━━━━━━━━━━━━━\u001b[0m\u001b[37m\u001b[0m \u001b[1m0s\u001b[0m 3ms/step - loss: 0.1642 - mae: 0.2241 - val_loss: 0.0887 - val_mae: 0.0875 - learning_rate: 0.0010\n",
      "Epoch 83/100\n",
      "\u001b[1m20/20\u001b[0m \u001b[32m━━━━━━━━━━━━━━━━━━━━\u001b[0m\u001b[37m\u001b[0m \u001b[1m0s\u001b[0m 4ms/step - loss: 0.1563 - mae: 0.2147 - val_loss: 0.0845 - val_mae: 0.0894 - learning_rate: 0.0010\n",
      "Epoch 84/100\n",
      "\u001b[1m20/20\u001b[0m \u001b[32m━━━━━━━━━━━━━━━━━━━━\u001b[0m\u001b[37m\u001b[0m \u001b[1m0s\u001b[0m 3ms/step - loss: 0.1374 - mae: 0.1948 - val_loss: 0.1022 - val_mae: 0.1308 - learning_rate: 0.0010\n",
      "Epoch 85/100\n",
      "\u001b[1m20/20\u001b[0m \u001b[32m━━━━━━━━━━━━━━━━━━━━\u001b[0m\u001b[37m\u001b[0m \u001b[1m0s\u001b[0m 3ms/step - loss: 0.1654 - mae: 0.2325 - val_loss: 0.0814 - val_mae: 0.0955 - learning_rate: 0.0010\n",
      "Epoch 86/100\n",
      "\u001b[1m20/20\u001b[0m \u001b[32m━━━━━━━━━━━━━━━━━━━━\u001b[0m\u001b[37m\u001b[0m \u001b[1m0s\u001b[0m 3ms/step - loss: 0.1336 - mae: 0.1924 - val_loss: 0.0749 - val_mae: 0.0923 - learning_rate: 0.0010\n",
      "Epoch 87/100\n",
      "\u001b[1m20/20\u001b[0m \u001b[32m━━━━━━━━━━━━━━━━━━━━\u001b[0m\u001b[37m\u001b[0m \u001b[1m0s\u001b[0m 3ms/step - loss: 0.1120 - mae: 0.1711 - val_loss: 0.0714 - val_mae: 0.0779 - learning_rate: 0.0010\n",
      "Epoch 88/100\n",
      "\u001b[1m20/20\u001b[0m \u001b[32m━━━━━━━━━━━━━━━━━━━━\u001b[0m\u001b[37m\u001b[0m \u001b[1m0s\u001b[0m 3ms/step - loss: 0.1486 - mae: 0.2098 - val_loss: 0.0724 - val_mae: 0.0892 - learning_rate: 0.0010\n",
      "Epoch 89/100\n",
      "\u001b[1m20/20\u001b[0m \u001b[32m━━━━━━━━━━━━━━━━━━━━\u001b[0m\u001b[37m\u001b[0m \u001b[1m0s\u001b[0m 3ms/step - loss: 0.1435 - mae: 0.2122 - val_loss: 0.0747 - val_mae: 0.1090 - learning_rate: 0.0010\n",
      "Epoch 90/100\n",
      "\u001b[1m20/20\u001b[0m \u001b[32m━━━━━━━━━━━━━━━━━━━━\u001b[0m\u001b[37m\u001b[0m \u001b[1m0s\u001b[0m 3ms/step - loss: 0.1229 - mae: 0.1998 - val_loss: 0.0745 - val_mae: 0.1045 - learning_rate: 0.0010\n",
      "Epoch 91/100\n",
      "\u001b[1m20/20\u001b[0m \u001b[32m━━━━━━━━━━━━━━━━━━━━\u001b[0m\u001b[37m\u001b[0m \u001b[1m0s\u001b[0m 4ms/step - loss: 0.1449 - mae: 0.2397 - val_loss: 0.0671 - val_mae: 0.0988 - learning_rate: 0.0010\n",
      "Epoch 92/100\n",
      "\u001b[1m20/20\u001b[0m \u001b[32m━━━━━━━━━━━━━━━━━━━━\u001b[0m\u001b[37m\u001b[0m \u001b[1m0s\u001b[0m 3ms/step - loss: 0.1194 - mae: 0.2065 - val_loss: 0.0599 - val_mae: 0.0737 - learning_rate: 0.0010\n",
      "Epoch 93/100\n",
      "\u001b[1m20/20\u001b[0m \u001b[32m━━━━━━━━━━━━━━━━━━━━\u001b[0m\u001b[37m\u001b[0m \u001b[1m0s\u001b[0m 6ms/step - loss: 0.1402 - mae: 0.2262 - val_loss: 0.0656 - val_mae: 0.1111 - learning_rate: 0.0010\n",
      "Epoch 94/100\n",
      "\u001b[1m20/20\u001b[0m \u001b[32m━━━━━━━━━━━━━━━━━━━━\u001b[0m\u001b[37m\u001b[0m \u001b[1m0s\u001b[0m 3ms/step - loss: 0.1276 - mae: 0.2126 - val_loss: 0.0624 - val_mae: 0.1050 - learning_rate: 0.0010\n",
      "Epoch 95/100\n",
      "\u001b[1m20/20\u001b[0m \u001b[32m━━━━━━━━━━━━━━━━━━━━\u001b[0m\u001b[37m\u001b[0m \u001b[1m0s\u001b[0m 3ms/step - loss: 0.1235 - mae: 0.2139 - val_loss: 0.0598 - val_mae: 0.1037 - learning_rate: 0.0010\n",
      "Epoch 96/100\n",
      "\u001b[1m20/20\u001b[0m \u001b[32m━━━━━━━━━━━━━━━━━━━━\u001b[0m\u001b[37m\u001b[0m \u001b[1m0s\u001b[0m 3ms/step - loss: 0.1431 - mae: 0.2410 - val_loss: 0.0568 - val_mae: 0.0889 - learning_rate: 0.0010\n",
      "Epoch 97/100\n",
      "\u001b[1m20/20\u001b[0m \u001b[32m━━━━━━━━━━━━━━━━━━━━\u001b[0m\u001b[37m\u001b[0m \u001b[1m0s\u001b[0m 3ms/step - loss: 0.1173 - mae: 0.2114 - val_loss: 0.0568 - val_mae: 0.0969 - learning_rate: 0.0010\n",
      "Epoch 98/100\n",
      "\u001b[1m20/20\u001b[0m \u001b[32m━━━━━━━━━━━━━━━━━━━━\u001b[0m\u001b[37m\u001b[0m \u001b[1m0s\u001b[0m 3ms/step - loss: 0.1212 - mae: 0.2108 - val_loss: 0.0534 - val_mae: 0.0837 - learning_rate: 0.0010\n",
      "Epoch 99/100\n",
      "\u001b[1m20/20\u001b[0m \u001b[32m━━━━━━━━━━━━━━━━━━━━\u001b[0m\u001b[37m\u001b[0m \u001b[1m0s\u001b[0m 3ms/step - loss: 0.0983 - mae: 0.1874 - val_loss: 0.0503 - val_mae: 0.0859 - learning_rate: 0.0010\n",
      "Epoch 100/100\n",
      "\u001b[1m20/20\u001b[0m \u001b[32m━━━━━━━━━━━━━━━━━━━━\u001b[0m\u001b[37m\u001b[0m \u001b[1m0s\u001b[0m 3ms/step - loss: 0.1134 - mae: 0.2136 - val_loss: 0.0479 - val_mae: 0.0812 - learning_rate: 0.0010\n"
     ]
    }
   ],
   "source": [
    "# Train the model\n",
    "history = model.fit(\n",
    "    X_train, \n",
    "    y_train, \n",
    "    epochs=100, \n",
    "    validation_split=0.2, \n",
    "    callbacks=[early_stopping, lr_scheduler]\n",
    ")"
   ]
  },
  {
   "cell_type": "code",
   "execution_count": 41,
   "id": "ae02bf61-361a-4b72-96ee-87d2b551d441",
   "metadata": {},
   "outputs": [
    {
     "name": "stdout",
     "output_type": "stream",
     "text": [
      "\u001b[1m7/7\u001b[0m \u001b[32m━━━━━━━━━━━━━━━━━━━━\u001b[0m\u001b[37m\u001b[0m \u001b[1m0s\u001b[0m 2ms/step - loss: 0.0491 - mae: 0.08458\n",
      "Test Loss: 0.05100409686565399, Test MAE: 0.08943866938352585\n"
     ]
    }
   ],
   "source": [
    "# Evaluate the model\n",
    "loss, mae = model.evaluate(X_test, y_test)\n",
    "print(f\"Test Loss: {loss}, Test MAE: {mae}\")"
   ]
  },
  {
   "cell_type": "code",
   "execution_count": 42,
   "id": "80d28551-74c9-44a2-953a-36bcb9955b2e",
   "metadata": {},
   "outputs": [
    {
     "name": "stdout",
     "output_type": "stream",
     "text": [
      "\u001b[1m7/7\u001b[0m \u001b[32m━━━━━━━━━━━━━━━━━━━━\u001b[0m\u001b[37m\u001b[0m \u001b[1m0s\u001b[0m 11ms/step\n"
     ]
    }
   ],
   "source": [
    "# Make predictions\n",
    "y_pred_scaled = model.predict(X_test)\n",
    "y_pred = scaler_y.inverse_transform(y_pred_scaled).flatten()\n",
    "\n",
    "# Inverse transform the true values\n",
    "y_test_inverse = scaler_y.inverse_transform(y_test.reshape(-1, 1)).flatten()"
   ]
  },
  {
   "cell_type": "code",
   "execution_count": 43,
   "id": "0b1e78b4-cf09-4f59-8ea5-fab647d4857a",
   "metadata": {},
   "outputs": [
    {
     "name": "stdout",
     "output_type": "stream",
     "text": [
      "Mean Absolute Error on Test Set: 73.82910766601563\n"
     ]
    }
   ],
   "source": [
    "# Calculate Mean Absolute Error on the inverse-transformed values\n",
    "mae_test = mean_absolute_error(y_test_inverse, y_pred)\n",
    "print(f\"Mean Absolute Error on Test Set: {mae_test}\")"
   ]
  },
  {
   "cell_type": "code",
   "execution_count": 44,
   "id": "6cdc448d-e54b-476c-8f54-39c51d8c5316",
   "metadata": {},
   "outputs": [
    {
     "data": {
      "image/png": "[encoded data removed]",
      "text/plain": [
       "<Figure size 640x480 with 1 Axes>"
      ]
     },
     "metadata": {},
     "output_type": "display_data"
    }
   ],
   "source": [
    "# Plot training history\n",
    "plt.plot(history.history[\"loss\"], label=\"Training Loss\")\n",
    "plt.plot(history.history[\"val_loss\"], label=\"Validation Loss\")\n",
    "plt.legend()\n",
    "plt.title(\"Model Training History\")\n",
    "plt.xlabel(\"Epochs\")\n",
    "plt.ylabel(\"Loss\")\n",
    "plt.show()"
   ]
  },
  {
   "cell_type": "markdown",
   "id": "d23ea1fe-8337-487b-ae26-4688a50f6b80",
   "metadata": {},
   "source": [
    "# Testing"
   ]
  },
  {
   "cell_type": "code",
   "execution_count": 46,
   "id": "408665e7-e91a-4bde-b512-9a5ea37313eb",
   "metadata": {},
   "outputs": [
    {
     "name": "stdout",
     "output_type": "stream",
     "text": [
      "Enter the following details for prediction:\n"
     ]
    },
    {
     "name": "stdin",
     "output_type": "stream",
     "text": [
      "Gender (0 for Male, 1 for Female):  1\n",
      "Height (in cm):  170\n",
      "Weight (in kg):  49\n",
      "Age (in years):  35\n"
     ]
    },
    {
     "name": "stdout",
     "output_type": "stream",
     "text": [
      "\u001b[1m1/1\u001b[0m \u001b[32m━━━━━━━━━━━━━━━━━━━━\u001b[0m\u001b[37m\u001b[0m \u001b[1m0s\u001b[0m 17ms/step\n",
      "\n",
      "Prediction Results:\n",
      "BMI: 16.96\n",
      "Target Weight: 63.58 kg\n",
      "Weight Adjustment: -14.58 kg\n",
      "Predicted Daily Steps: 3279\n",
      "BMI Category: underweight\n"
     ]
    },
    {
     "name": "stderr",
     "output_type": "stream",
     "text": [
      "C:\\Users\\zahra\\AppData\\Local\\Packages\\PythonSoftwareFoundation.Python.3.11_qbz5n2kfra8p0\\LocalCache\\local-packages\\Python311\\site-packages\\sklearn\\base.py:493: UserWarning: X does not have valid feature names, but StandardScaler was fitted with feature names\n",
      "  warnings.warn(\n"
     ]
    }
   ],
   "source": [
    "### Interactive function to test the model in a Jupyter Notebook\n",
    "def test_model_interactively():\n",
    "    \"\"\"\n",
    "    Prompt the user for input and predict daily_steps along with derived outputs.\n",
    "    \"\"\"\n",
    "    print(\"Enter the following details for prediction:\")\n",
    "    try:\n",
    "        # Gather inputs from the user\n",
    "        gender = int(input(\"Gender (0 for Male, 1 for Female): \"))\n",
    "        height = float(input(\"Height (in cm): \"))\n",
    "        weight = float(input(\"Weight (in kg): \"))\n",
    "        age = int(input(\"Age (in years): \"))\n",
    "        \n",
    "        # Calculate BMI and related outputs\n",
    "        bmi = weight / ((height / 100) ** 2)\n",
    "        target_weight = 22 * ((height / 100) ** 2)\n",
    "        weight_adjustment = weight - target_weight\n",
    "        \n",
    "        # Prepare input for the model\n",
    "        new_input = np.array([[gender, height, weight, age]])\n",
    "        new_input_scaled = scaler_X.transform(new_input)\n",
    "        \n",
    "        # Predict daily_steps\n",
    "        predicted_steps_scaled = model.predict(new_input_scaled)\n",
    "        predicted_steps = scaler_y.inverse_transform(predicted_steps_scaled).flatten()[0]\n",
    "        \n",
    "        # Determine BMI category\n",
    "        if bmi < 18.5:\n",
    "            bmi_category = \"underweight\"\n",
    "        elif 18.5 <= bmi < 24.9:\n",
    "            bmi_category = \"normal\"\n",
    "        elif 25 <= bmi < 29.9:\n",
    "            bmi_category = \"overweight\"\n",
    "        else:\n",
    "            bmi_category = \"obese\"\n",
    "        \n",
    "        # Display results\n",
    "        print(\"\\nPrediction Results:\")\n",
    "        print(f\"BMI: {bmi:.2f}\")\n",
    "        print(f\"Target Weight: {target_weight:.2f} kg\")\n",
    "        print(f\"Weight Adjustment: {weight_adjustment:.2f} kg\")\n",
    "        print(f\"Predicted Daily Steps: {predicted_steps:.0f}\")\n",
    "        print(f\"BMI Category: {bmi_category}\")\n",
    "    \n",
    "    except ValueError:\n",
    "        print(\"Invalid input. Please enter valid numbers.\")\n",
    "\n",
    "# Run the interactive test\n",
    "test_model_interactively()"
   ]
  },
  {
   "cell_type": "code",
   "execution_count": 45,
   "id": "9bf151f7-b1eb-49ee-95e2-f88bebf3a807",
   "metadata": {},
   "outputs": [
    {
     "name": "stdout",
     "output_type": "stream",
     "text": [
      "Relative Error: 2.23%\n"
     ]
    }
   ],
   "source": [
    "relative_error = (mae_test / y_test_inverse.mean()) * 100\n",
    "print(f\"Relative Error: {relative_error:.2f}%\")"
   ]
  },
  {
   "cell_type": "code",
   "execution_count": null,
   "id": "78cfbfbf-3854-4b29-b4d5-f1d4b2c5fce8",
   "metadata": {},
   "outputs": [],
   "source": []
  }
 ],
 "metadata": {
  "kernelspec": {
   "display_name": "Python 3 (ipykernel)",
   "language": "python",
   "name": "python3"
  },
  "language_info": {
   "codemirror_mode": {
    "name": "ipython",
    "version": 3
   },
   "file_extension": ".py",
   "mimetype": "text/x-python",
   "name": "python",
   "nbconvert_exporter": "python",
   "pygments_lexer": "ipython3",
   "version": "3.11.9"
  }
 },
 "nbformat": 4,
 "nbformat_minor": 5
}
